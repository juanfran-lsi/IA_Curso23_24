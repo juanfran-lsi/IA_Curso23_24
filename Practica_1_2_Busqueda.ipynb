{
 "cells": [
  {
   "cell_type": "markdown",
   "metadata": {},
   "source": [
    "## Práctica 2 Búsqueda. Variantes de búsqueda en profundidad y control de estados repetidos."
   ]
  },
  {
   "cell_type": "markdown",
   "metadata": {},
   "source": [
    "### Formalización del problema"
   ]
  },
  {
   "cell_type": "markdown",
   "metadata": {},
   "source": [
    "Importamos en primer lugar las librerías necesarias"
   ]
  },
  {
   "cell_type": "code",
   "execution_count": 1,
   "metadata": {},
   "outputs": [],
   "source": [
    "import numpy as np\n",
    "from dataclasses import dataclass\n",
    "from copy import deepcopy\n",
    "from __future__ import annotations"
   ]
  },
  {
   "cell_type": "markdown",
   "metadata": {},
   "source": [
    "Definimos cuáles son los operadores de nuestro problema, para ello hay que tener en cuenta el problema del 8-Puzle:\n",
    "\n",
    "![](https://upload.wikimedia.org/wikipedia/commons/thumb/4/4e/8puzzle_example.svg/512px-8puzzle_example.svg.png?20110321215916)\n",
    "\n",
    "*Imagen extraída de https://upload.wikimedia.org/wikipedia/commons/thumb/4/4e/8puzzle_example.svg*\n",
    "\n",
    "Para ello, usaremos un diccionario o map, en el que la clave, se corresponde con la entrada del usuario para que se realice el operador correspondiente."
   ]
  },
  {
   "cell_type": "code",
   "execution_count": 2,
   "metadata": {},
   "outputs": [],
   "source": [
    "operadores = {\n",
    "    \"8\": \"ARRIBA\", \n",
    "    \"2\": \"ABAJO\", \n",
    "    \"4\": \"IZQUIERDA\", \n",
    "    \"6\": \"DERECHA\"\n",
    "}"
   ]
  },
  {
   "cell_type": "markdown",
   "metadata": {},
   "source": [
    "Tras esto, podemos definir qué necesitamos para representar el problema. Esta información quedará recogida en un `dataclass`, que es una versión más simple de una clase estándar en Python. Al tener un tablero podemos hacer uso de una matriz para representarlo. Para evitar de una lista de listas, hacemos uso de la librería **Numpy**, que permite tratar la variable como si de una matriz se tratase. Por último, resulta de utilidad tener el control en todo momento de la ubicación del hueco, ya que al fin y al cabo, es donde se va a producir el movimiento. Ésto puede observarse en la siguiente animación:\n",
    "\n",
    "![](https://camo.githubusercontent.com/8e0521bfd0f2f964d4968a529b134fad5fc1db12fc25c7a8d98428ae88b55cb0/687474703a2f2f6b617869313939332e6769746875622e696f2f696d616765732f70726f6a656374732f3870757a7a6c652f67616d652e676966)\n",
    "\n",
    "*Animación extraída de https://github.com/kaxi1993/8puzzle*"
   ]
  },
  {
   "cell_type": "code",
   "execution_count": 3,
   "metadata": {},
   "outputs": [],
   "source": [
    "@dataclass\n",
    "class tEstado:\n",
    "    tablero: np.ndarray\n",
    "    fila: int\n",
    "    col: int\n",
    "    N: int\n",
    "    \n",
    "    def __init__(self, tablero: np.ndarray):\n",
    "        self.tablero = tablero\n",
    "        self.N = self.tablero.shape[0]\n",
    "        self.fila, self.col = np.where(self.tablero == 0)\n",
    "\n",
    "    def __repr__(self) -> str:\n",
    "        return f\"{self.tablero}\\n Fila: {self.fila}\\n Col: {self.col}\\n\"\n",
    "\n",
    "    def crearHash(self) -> str:\n",
    "        return f\"{self.tablero.tobytes()}{self.fila}{self.col}\""
   ]
  },
  {
   "cell_type": "markdown",
   "metadata": {},
   "source": [
    "En `__init__` se tiene el constructor de tEstado. En caso de no estar familiarizado con los conceptos de Orientación a Objetos, piense en tEstado como si fuese una estructura en C. El acceso a los miembros de tEstado es igual.\n",
    "\n",
    "```python \n",
    "tablero = np.array([[0, 2, 3], [1, 4, 5], [8, 7, 6]])\n",
    "variable = tEstado(tablero) # Suponga tablero una matriz de numpy previamente definida\n",
    "print(variable.fila, variable.col) # Imprime 0, 0, ya que el hueco está en dicha posición\n",
    "```\n",
    "\n",
    "Una vez definida la dataclass, es necesario crear ciertas funciones para poder interactuar. En concreto:\n",
    "\n",
    "* esValido(op, estado)\n",
    "* aplicaOperador(op, estado)\n",
    "* testObjetivo(estado)\n",
    "\n",
    "Tenga en cuenta que es posible que necesite alguna otra función auxiliar, como `estadoInicial()`, `estadoObjetivo()` o `iguales(estado1, estado2)`. Definamos en primer lugar **esValido**. Se puede apreciar cómo se usa para la estructura `match`, el equivalente a `switch`, `operadores[op]`. Esto se hace para obtener los valores del map, en lugar de trabajar con la clave que es `op`."
   ]
  },
  {
   "cell_type": "code",
   "execution_count": 4,
   "metadata": {},
   "outputs": [],
   "source": [
    "def esValido(op: str, estado) -> bool:\n",
    "    valido = False\n",
    "    match operadores[op]:\n",
    "        case \"ARRIBA\":\n",
    "            valido = estado.fila > 0\n",
    "        case \"ABAJO\":\n",
    "            valido = estado.fila < estado.N - 1\n",
    "        case \"IZQUIERDA\":\n",
    "            valido = estado.col > 0\n",
    "        case \"DERECHA\":\n",
    "            valido = estado.col < estado.N - 1\n",
    "\n",
    "    return valido"
   ]
  },
  {
   "cell_type": "markdown",
   "metadata": {},
   "source": [
    "Continuamos con el código de aplicaOperador. Recordemos que es necesario hacer **explícita** la copia del estado antiguo para poder modificarlo. Para ello, usamos la función `deepcopy` contenida en la librería `copy`."
   ]
  },
  {
   "cell_type": "code",
   "execution_count": 5,
   "metadata": {},
   "outputs": [],
   "source": [
    "def aplicaOperador(op, estado):\n",
    "    nuevo = deepcopy(estado)\n",
    "    ficha = 0\n",
    "    match operadores[op]:\n",
    "        case \"ARRIBA\":\n",
    "            ficha = nuevo.tablero[nuevo.fila - 1, nuevo.col]\n",
    "        case \"ABAJO\":\n",
    "            ficha = nuevo.tablero[nuevo.fila + 1, nuevo.col]\n",
    "        case \"IZQUIERDA\":\n",
    "            ficha = nuevo.tablero[nuevo.fila, nuevo.col - 1]\n",
    "        case \"DERECHA\":\n",
    "            ficha = nuevo.tablero[nuevo.fila, nuevo.col + 1]\n",
    "            \n",
    "    nuevo.fila, nuevo.col = np.where(nuevo.tablero == ficha)\n",
    "    nuevo.tablero[nuevo.fila, nuevo.col] = 0\n",
    "    nuevo.tablero[estado.fila, estado.col] = ficha\n",
    "    return nuevo"
   ]
  },
  {
   "cell_type": "markdown",
   "metadata": {},
   "source": [
    "Y por último, la función testObjetivo. Hay que tener en cuenta que aquí sí que nos podría llegar a interesar una función auxiliar que nos compruebe si dos estados son iguales o no. Para ello, podemos comparar directamente los tableros y hacer uso de las ventajas de Numpy. Veamos un ejemplo de esto último antes de ver la implementación de testObjetivo."
   ]
  },
  {
   "cell_type": "code",
   "execution_count": 6,
   "metadata": {},
   "outputs": [
    {
     "name": "stdout",
     "output_type": "stream",
     "text": [
      "[[0 2 3]\n",
      " [1 4 5]\n",
      " [8 7 6]]\n",
      "[[1 2 3]\n",
      " [8 0 4]\n",
      " [7 6 5]]\n"
     ]
    }
   ],
   "source": [
    "puzle_inicial = np.array([[0, 2, 3], [1, 4, 5], [8, 7, 6]])\n",
    "puzle_final = np.array([[1, 2, 3], [8, 0, 4], [7, 6, 5]])\n",
    "print(puzle_inicial)\n",
    "print(puzle_final)"
   ]
  },
  {
   "cell_type": "code",
   "execution_count": 7,
   "metadata": {},
   "outputs": [
    {
     "data": {
      "text/plain": [
       "array([[False,  True,  True],\n",
       "       [False, False, False],\n",
       "       [False, False, False]])"
      ]
     },
     "execution_count": 7,
     "metadata": {},
     "output_type": "execute_result"
    }
   ],
   "source": [
    "puzle_inicial == puzle_final"
   ]
  },
  {
   "cell_type": "markdown",
   "metadata": {},
   "source": [
    "Como se puede comprobar, al utilizar el operador ==, se comprueba 1:1 cada elemento de la matriz, obtiendo una matriz de booleanos. Ahora bien, como en este caso se necesita comprobar que **todas** las posiciones sean iguales podemos hacer uso de la operación `all()` (equivale a $\\forall$). Si necesitásemos comprobar por el contrario, si **alguna** fuese igual, podríamos hacer uso de la operación `any()` (equivale a $\\exists$)."
   ]
  },
  {
   "cell_type": "code",
   "execution_count": 8,
   "metadata": {},
   "outputs": [
    {
     "name": "stdout",
     "output_type": "stream",
     "text": [
      "False\n",
      "True\n"
     ]
    }
   ],
   "source": [
    "print((puzle_inicial==puzle_final).all())\n",
    "print((puzle_inicial==puzle_final).any())"
   ]
  },
  {
   "cell_type": "code",
   "execution_count": 9,
   "metadata": {},
   "outputs": [],
   "source": [
    "def coste(op, estado):\n",
    "    return 1 \n",
    "\n",
    "def estadoInicial() -> tEstado:\n",
    "    puzle_inicial = np.array([[0, 2, 3], [1, 4, 5], [8, 7, 6]])\n",
    "    return tEstado(puzle_inicial)\n",
    "\n",
    "def estadoObjetivo() -> tEstado:\n",
    "    puzle_final = np.array([[1, 2, 3], [8, 0, 4], [7, 6, 5]])\n",
    "    return tEstado(puzle_final)\n",
    "\n",
    "def iguales(actual, objetivo):\n",
    "    return np.array_equal(actual.tablero, objetivo.tablero)\n",
    "\n",
    "def testObjetivo(actual):\n",
    "    objetivo = estadoObjetivo()\n",
    "    return iguales(actual, objetivo)\n"
   ]
  },
  {
   "cell_type": "markdown",
   "metadata": {},
   "source": [
    "Probemos si todo funciona de forma correcta."
   ]
  },
  {
   "cell_type": "code",
   "execution_count": 10,
   "metadata": {},
   "outputs": [
    {
     "name": "stdout",
     "output_type": "stream",
     "text": [
      "[[0 2 3]\n",
      " [1 4 5]\n",
      " [8 7 6]]\n",
      " Fila: [0]\n",
      " Col: [0]\n",
      "\n"
     ]
    }
   ],
   "source": [
    "estado_ini = tEstado(puzle_inicial)\n",
    "print(estado_ini)"
   ]
  },
  {
   "cell_type": "code",
   "execution_count": 11,
   "metadata": {},
   "outputs": [
    {
     "name": "stdout",
     "output_type": "stream",
     "text": [
      "No se puede hacer el movimiento\n",
      "Intentemos hacer el movimiento hacia Abajo.\n",
      "Ahora sí\n",
      "El antiguo estado era: \n",
      "[[0 2 3]\n",
      " [1 4 5]\n",
      " [8 7 6]]\n",
      " Fila: [0]\n",
      " Col: [0]\n",
      "\n",
      "El nuevo estado es: \n",
      "[[1 2 3]\n",
      " [0 4 5]\n",
      " [8 7 6]]\n",
      " Fila: [1]\n",
      " Col: [0]\n",
      "\n"
     ]
    }
   ],
   "source": [
    "nuevo_estado = deepcopy(estado_ini)\n",
    "if esValido(\"8\", estado_ini):\n",
    "    print(\"Es posible hacer el movimiento\")\n",
    "else:\n",
    "    print(\"No se puede hacer el movimiento\\nIntentemos hacer el movimiento hacia Abajo.\")\n",
    "    if esValido(\"2\", estado_ini):\n",
    "        print(\"Ahora sí\")\n",
    "        nuevo_estado = aplicaOperador(\"2\", estado_ini)\n",
    "print(f\"El antiguo estado era: \\n{estado_ini}\")\n",
    "print(f\"El nuevo estado es: \\n{nuevo_estado}\")"
   ]
  },
  {
   "cell_type": "markdown",
   "metadata": {},
   "source": [
    "Parece que todo funciona correctamente, ¿verdad? Pasemos a la búsqueda."
   ]
  },
  {
   "cell_type": "markdown",
   "metadata": {},
   "source": [
    "### Búsqueda No Informada\n",
    "\n",
    "En la búsqueda crearemos una nueva `dataclass` para encapsular el tEstado creado previamente junto con información adicional que nos permita modelar un árbol. \n",
    "\n",
    "<img src=\"https://drive.google.com/uc?id=1MnAr7Fx2fnw_GlaQva1mUsIfTCLb558g\" alt=\"Árbol de busqueda\" width=\"400\"/>\n",
    "\n",
    "Veamos qué información tiene."
   ]
  },
  {
   "cell_type": "code",
   "execution_count": 12,
   "metadata": {},
   "outputs": [],
   "source": [
    "@dataclass\n",
    "class Nodo:\n",
    "    estado: tEstado\n",
    "    operador: str\n",
    "    costeCamino: int\n",
    "    profundidad: int\n",
    "    valHeuristica: int  # Por el momento se le puede asignar el valor 0.\n",
    "    padre: Nodo\n",
    "\n",
    "    def __str__(self) -> str:\n",
    "        return f'{\"- \" * 10}\\n{self.estado.tablero}, Operador: {operadores[self.operador]}, Heu:{self.valHeuristica}\\n{\"- \" * 10}'\n",
    "\n",
    "    def hash(self) -> str:\n",
    "        return self.estado.crearHash()"
   ]
  },
  {
   "cell_type": "markdown",
   "metadata": {},
   "source": [
    "Antes de comenzar a describir los atributos, ¿aprecias alguna diferencia con respecto a la dataclass anterior? Dicho de otro modo, ¿echas en falta algún método? ¡Efectivamente! Si simplemente se va a realizar una copia de cada uno de los atributos, no hace falta que creemos de forma explícita la función `__init__()`, si no que por defecto, la tenemos. \n",
    "\n",
    "Dicho esto, podemos observar el atributo `estado`, que equivale a lo que hemos visto antes. También tenemos el `operador` que nos llevó a ese estado. Por otro lado, el atributo `padre`, nos indica qué nodo fue el previo. Esto resulta muy útil para poder obtener el camino necesario para ir desde el nodo raíz(que contiene el estado inicial) y uno en el que se encuentra la solución, tal y como se aprecia en la figura anterior. El resto de atributos de `costeCamino`,  `profundidad` y `valHeuristica` nos permitirán variar la búsqueda en función de algunos criterios que se definirán más adelante. Para esta sesión, sí que nos será de utilidad el atributo de `profundidad`, ya que nos indica en qué nivel se encuentra un nodo dado."
   ]
  },
  {
   "cell_type": "code",
   "execution_count": 13,
   "metadata": {},
   "outputs": [],
   "source": [
    "def nodoInicial() -> Nodo:\n",
    "    return Nodo(estadoInicial(), \"0\", 0, 0, 0, None)\n",
    "\n",
    "def dispCamino(nodo):\n",
    "    lista = []\n",
    "    aux = nodo\n",
    "    while aux.padre != None:\n",
    "        lista.append((aux.estado.tablero, aux.operador))\n",
    "        aux = aux.padre\n",
    "    for i in lista[::-1]:\n",
    "        print(\"Movimiento hacia: \", operadores[i[1]], \"\\n\", i[0])\n",
    "        print()\n",
    "\n",
    "def dispSolucion(nodo):\n",
    "    dispCamino(nodo)\n",
    "    print(\"Profundidad: \", nodo.profundidad)\n",
    "    print(\"Coste: \", nodo.costeCamino)"
   ]
  },
  {
   "cell_type": "markdown",
   "metadata": {},
   "source": [
    "Pasemos a la función `expandir()`. Recordemos que para obtener el árbol completo desde un nodo raíz es necesario ir generando sucesores en cada uno de los nodos, para así, poder llegar a la solución. La función sucesores devolverá, dado un nodo, todos los posibles sucesores. ¿En función de qué? Pues de los operadores que se definan para el problema en cuestión. La idea es que sólo podemos aplicar un operador si previamente éste es válido, ¿verdad? Pues este principio es el que contemplamos en la función expandir."
   ]
  },
  {
   "cell_type": "code",
   "execution_count": 14,
   "metadata": {},
   "outputs": [],
   "source": [
    "def expandir(nodo) -> list:\n",
    "    nodos = []\n",
    "\n",
    "    for op in operadores:\n",
    "        if esValido(op, nodo.estado):\n",
    "            nuevo = aplicaOperador(op, nodo.estado)\n",
    "            nodos.append(\n",
    "                Nodo(\n",
    "                    nuevo,\n",
    "                    op,\n",
    "                    nodo.costeCamino + coste(op, nuevo),\n",
    "                    nodo.profundidad + 1,\n",
    "                    0,\n",
    "                    nodo,\n",
    "                )\n",
    "            )\n",
    "    return nodos"
   ]
  },
  {
   "cell_type": "markdown",
   "metadata": {},
   "source": [
    "Puede que no esté familiarizado con los `for` de rango tan habituales de Python. Si es así, veamos un ejemplo antes de continuar. Si definimos una lista con los 10 primeros números naturales, ¿cómo imprimo cada uno de ellos por separado?"
   ]
  },
  {
   "cell_type": "code",
   "execution_count": 15,
   "metadata": {},
   "outputs": [
    {
     "name": "stdout",
     "output_type": "stream",
     "text": [
      "1\n",
      "2\n",
      "3\n",
      "4\n",
      "5\n",
      "6\n",
      "7\n",
      "8\n",
      "9\n",
      "10\n"
     ]
    }
   ],
   "source": [
    "naturales = [1, 2, 3, 4, 5, 6, 7, 8, 9, 10]\n",
    "for numero in naturales:\n",
    "    print(numero)"
   ]
  },
  {
   "cell_type": "code",
   "execution_count": 16,
   "metadata": {},
   "outputs": [
    {
     "name": "stdout",
     "output_type": "stream",
     "text": [
      "1\n",
      "2\n",
      "3\n",
      "4\n",
      "5\n",
      "6\n",
      "7\n",
      "8\n",
      "9\n",
      "10\n"
     ]
    }
   ],
   "source": [
    "# Si en lugar de usar una lista quisiéramos simplemente imprimirlos, lo haríamos como se haría en `C/C++`\n",
    "\n",
    "for numero in range(1, 11): # Importante, el rango es [1, 11), nótese el intervalo abierto a la derecha\n",
    "    print(numero)"
   ]
  },
  {
   "cell_type": "markdown",
   "metadata": {},
   "source": [
    "¡Volvamos a la búsqueda en anchura! Si seguimos el método visto en clases de seminarios, podríamos obtener el siguiente pseudocódigo.\n",
    "\n",
    "```\n",
    "Solucion: función Búsqueda (tNodo: Inicial)\n",
    "inicio\n",
    "    tNodo Actual\n",
    "    tLista: Abiertos <- {Inicial} // El nodo inicial se guarda en Abiertos\n",
    "    logico Objetivo: Falso\n",
    "    mientras (No Vacia(Abiertos)) Y (No Objetivo)\n",
    "        Actual <- Primero(Abiertos) // Extrae y elimina el primer nodo de Abiertos\n",
    "        Objetivo <- EsObjetivo(Actual)\n",
    "        si NO (Objetivo) entonces\n",
    "            Sucesores <- Expandir(Actual) //calcula heurística a cada sucesor\n",
    "            Abiertos <- {Abiertos + Sucesores}\n",
    "        fin_si\n",
    "        Cerrados <- {Cerrados+Actual}\n",
    "    fin_mientras\n",
    "    si Objetivo entonces\n",
    "        devolver Camino a la Solución \n",
    "    si_no \n",
    "        devolver Fallo\n",
    "fin_función\n",
    "```"
   ]
  },
  {
   "cell_type": "code",
   "execution_count": 17,
   "metadata": {},
   "outputs": [],
   "source": [
    "def busquedaAnchura() -> bool:\n",
    "    objetivo = False\n",
    "    raiz = nodoInicial()\n",
    "    abiertos = []\n",
    "    sucesores = []\n",
    "    cerrados = {}  # Cerrados es un diccionario para que funcione como una tabla hash\n",
    "    abiertos.append(raiz)\n",
    "\n",
    "    # Completar el resto del código\n",
    "\n",
    "    if objetivo:\n",
    "        dispSolucion()  # Completar\n",
    "    elif not objetivo:\n",
    "        if abiertos[0] == raiz:\n",
    "            print(\"¡Aún tienes que completar esta función!\")\n",
    "        else:\n",
    "            print(\"No se ha encontrado solución\")\n",
    "\n",
    "    return objetivo\n",
    "\n",
    "# Desplegar sólo si se ha intentado completar el código de la búsqueda en anchura.\n",
    "def busquedaAnchura_sol() -> bool:\n",
    "    objetivo = False\n",
    "    raiz = nodoInicial()\n",
    "    abiertos = []\n",
    "    sucesores = []\n",
    "    cerrados = {}  # Cerrados es un diccionario para que funcione como una tabla hash\n",
    "    abiertos.append(raiz)\n",
    "\n",
    "    while not objetivo and len(abiertos)>0:\n",
    "        actual = abiertos[0]\n",
    "        abiertos.pop(0)\n",
    "        objetivo = testObjetivo(actual.estado)\n",
    "        if not objetivo:\n",
    "            sucesores = expandir(actual)\n",
    "            abiertos = abiertos + sucesores\n",
    "        cerrados[actual.hash()] = 0\n",
    "\n",
    "    if objetivo:\n",
    "        dispSolucion(actual)  # Completar\n",
    "    elif not objetivo:\n",
    "        print(\"No se ha encontrado solución\")\n",
    "\n",
    "    return objetivo\n"
   ]
  },
  {
   "cell_type": "code",
   "execution_count": 18,
   "metadata": {},
   "outputs": [
    {
     "name": "stdout",
     "output_type": "stream",
     "text": [
      "¡Aún tienes que completar esta función!\n"
     ]
    }
   ],
   "source": [
    "objetivo = busquedaAnchura()"
   ]
  },
  {
   "cell_type": "markdown",
   "metadata": {},
   "source": [
    "¿Cómo se implementaría la función de la búsqueda en profundidad?"
   ]
  },
  {
   "cell_type": "code",
   "execution_count": 19,
   "metadata": {},
   "outputs": [],
   "source": [
    "def busquedaProfundidad() -> bool:\n",
    "    pass # Quite esta línea antes de comenzar a implementar la función"
   ]
  },
  {
   "cell_type": "markdown",
   "metadata": {},
   "source": [
    "Una vez probado el código de la búsqueda en profundidad. ¿Qué se puede apreciar?\n",
    "\n"
   ]
  },
  {
   "cell_type": "markdown",
   "metadata": {},
   "source": [
    "---"
   ]
  },
  {
   "cell_type": "markdown",
   "metadata": {},
   "source": [
    "¿Cuáles son los próximos pasos? Siga el enunciado del guión de la práctica.\n",
    "\n",
    "A partir de las implementaciones realizadas en la práctica anterior para el problema del 8-puzle, \n",
    "añade las funciones necesarias para obtener las siguientes estrategias de búsqueda: \n",
    "\n",
    "1. Búsqueda en Anchura con Control de Estados Repetidos \n",
    "2. Búsqueda en Profundidad con Control de Estados Repetidos \n",
    "3. Búsqueda con Profundidad Limitada, donde el límite sea un parámetro de entrada de la \n",
    "función \n",
    "4. Búsqueda con Profundidad Limitada Iterativa"
   ]
  },
  {
   "cell_type": "code",
   "execution_count": 20,
   "metadata": {},
   "outputs": [],
   "source": [
    "# Implemente aquí el código de la búsqueda en anchura con control de estados repetidos."
   ]
  },
  {
   "cell_type": "code",
   "execution_count": 21,
   "metadata": {},
   "outputs": [],
   "source": [
    "# Implemente aquí el código de la búsqueda en profundidad con control de estados repetidos."
   ]
  },
  {
   "cell_type": "code",
   "execution_count": 22,
   "metadata": {},
   "outputs": [],
   "source": [
    "# Implemente aquí el código de la búsqueda limitada."
   ]
  },
  {
   "cell_type": "code",
   "execution_count": 23,
   "metadata": {},
   "outputs": [],
   "source": [
    "# Implemente aquí el código de la búsqueda limitada iterativa."
   ]
  },
  {
   "cell_type": "markdown",
   "metadata": {},
   "source": []
  }
 ],
 "metadata": {
  "kernelspec": {
   "display_name": "Py311",
   "language": "python",
   "name": "python3"
  },
  "language_info": {
   "codemirror_mode": {
    "name": "ipython",
    "version": 3
   },
   "file_extension": ".py",
   "mimetype": "text/x-python",
   "name": "python",
   "nbconvert_exporter": "python",
   "pygments_lexer": "ipython3",
   "version": "3.11.0"
  }
 },
 "nbformat": 4,
 "nbformat_minor": 2
}
